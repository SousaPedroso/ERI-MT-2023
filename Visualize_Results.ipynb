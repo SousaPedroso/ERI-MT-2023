{
  "cells": [
    {
      "cell_type": "code",
      "execution_count": null,
      "metadata": {
        "colab": {
          "base_uri": "https://localhost:8080/"
        },
        "id": "Gd0j7b5dQuXd",
        "outputId": "55399f66-9452-465d-d25e-cd60d86a2649"
      },
      "outputs": [],
      "source": [
        "import numpy as np\n",
        "import PIL\n",
        "import matplotlib.pyplot as plt\n",
        "import pandas as pd\n",
        "import random\n",
        "\n",
        "import datetime\n",
        "import os\n",
        "import gc\n",
        "import re\n",
        "import threading\n",
        "\n",
        "import urllib.request\n",
        "import requests\n",
        "\n",
        "import tarfile\n",
        "import zipfile\n",
        "\n",
        "import sklearn\n",
        "import sklearn.preprocessing\n",
        "import sklearn.metrics\n",
        "import sklearn.model_selection\n",
        "import tensorflow as tf\n",
        "\n",
        "from google.colab import drive\n",
        "drive.mount('/gdrive')\n",
        "\n",
        "# Set seed for reprodutibility\n",
        "seed=1\n",
        "tf.keras.utils.set_random_seed(seed)\n",
        "tf.config.experimental.enable_op_determinism()"
      ]
    },
    {
      "cell_type": "markdown",
      "metadata": {
        "id": "B9uybuRsSD85"
      },
      "source": [
        "## Dados"
      ]
    },
    {
      "cell_type": "markdown",
      "metadata": {
        "id": "684xFhTGQQxg"
      },
      "source": [
        "### Cohen dataset"
      ]
    },
    {
      "cell_type": "code",
      "execution_count": null,
      "metadata": {
        "colab": {
          "base_uri": "https://localhost:8080/",
          "height": 1000
        },
        "id": "IMogDOeBQR0s",
        "outputId": "70bbdfc4-9940-4455-8fd6-edfc93c34510"
      },
      "outputs": [],
      "source": [
        "cohen_dir  = \"cohen_dataset/\"\n",
        "if not os.path.exists(cohen_dir):\n",
        "  os.mkdir(cohen_dir)\n",
        "cohen_url = \"https://api.github.com/repos/ieee8023/covid-chestxray-dataset/contents/images\"\n",
        "images_requisition = list(requests.get(cohen_url).json())\n",
        "files = []\n",
        "# Divide para cada uma das 24 threads a imagem para baixar\n",
        "total_images = len(images_requisition)\n",
        "images_per_thread = total_images//24\n",
        "\n",
        "def download_images(images, begining, stop):\n",
        "  for moment in range(begining, stop):\n",
        "    files.append(images[moment]['download_url'])\n",
        "    urllib.request.urlretrieve(images[moment]['download_url'], os.path.join(cohen_dir, images[moment]['name']))\n",
        "\n",
        "threads = [threading.Thread(target=download_images, args=(images_requisition, i*images_per_thread, i*images_per_thread+images_per_thread)) if i != 23\n",
        "           else threading.Thread(target=download_images, args=(images_requisition, i*images_per_thread, i*images_per_thread+images_per_thread+total_images%24))\n",
        "           for i in range(24)]\n",
        "\n",
        "for thread in threads:\n",
        "  thread.start()\n",
        "\n",
        "for thread in threads:\n",
        "  thread.join()\n",
        "\n",
        "urllib.request.urlretrieve(\"https://raw.githubusercontent.com/ieee8023/covid-chestxray-dataset/master/metadata.csv\", \"cohen_metadata.csv\")\n",
        "\n",
        "cohen_metadata = pd.read_csv(\"cohen_metadata.csv\")\n",
        "cohen_metadata"
      ]
    },
    {
      "cell_type": "markdown",
      "metadata": {
        "id": "i4y1x5k_APxt"
      },
      "source": [
        "### Kag dataset"
      ]
    },
    {
      "cell_type": "markdown",
      "metadata": {
        "id": "xDaqnt75NHVV"
      },
      "source": [
        "Troque \"CAMINHO_DAS_CREDENCIAIS\" por onde originalmente estão suas credenciais do Kaggle. Se já estiverem onde especificado à partir da 4º linha abaixo, pode começar da 5º linha"
      ]
    },
    {
      "cell_type": "code",
      "execution_count": null,
      "metadata": {
        "colab": {
          "base_uri": "https://localhost:8080/"
        },
        "id": "HaAg-tiwGvO9",
        "outputId": "55e472f4-8d89-4f8c-abd4-4d631d39eb10"
      },
      "outputs": [],
      "source": [
        "!cp CAMINHO_DAS_CREDENCIAIS ./\n",
        "!rm /root/.kaggle\n",
        "!mkdir /root/.kaggle\n",
        "!mv ./kaggle.json /root/.kaggle\n",
        "!chmod 600 /root/.kaggle/kaggle.json\n",
        "!kaggle datasets download --unzip paultimothymooney/chest-xray-pneumonia\n",
        "!rename 's/chest_xray/kag_dataset/' *"
      ]
    },
    {
      "cell_type": "markdown",
      "metadata": {
        "id": "_eD5ZAcqVg10"
      },
      "source": [
        "## Pré-processamento"
      ]
    },
    {
      "cell_type": "code",
      "execution_count": null,
      "metadata": {
        "id": "wJTky4CMrJP2"
      },
      "outputs": [],
      "source": [
        "img_height, img_width = 224, 224"
      ]
    },
    {
      "cell_type": "markdown",
      "metadata": {
        "id": "larS7w2nRcEF"
      },
      "source": [
        "Classes"
      ]
    },
    {
      "cell_type": "code",
      "execution_count": null,
      "metadata": {
        "colab": {
          "base_uri": "https://localhost:8080/",
          "height": 129
        },
        "id": "mESxvLLCReBC",
        "outputId": "a75b82d1-1d8a-4c25-aa5a-ec9e119f1c29"
      },
      "outputs": [],
      "source": [
        "# O mapeamento de classes mudará de base para base, mas manteremos um padrão\n",
        "# para cada doença ou se a pessoa está saudável\n",
        "\n",
        "# kag x Cohen\n",
        "categories = ['kag_normal', 'kag_pneumonia_bacteria', 'kag_pneumonia_virus',\n",
        "              'cohen_covid19', 'cohen_other_virus', 'cohen_bacteria', 'cohen_fungal']\n",
        "\n",
        "le = sklearn.preprocessing.LabelEncoder()\n",
        "le_categories = le.fit_transform(categories)\n",
        "le_categories = le_categories.reshape(len(le_categories), 1)\n",
        "\n",
        "ohe = sklearn.preprocessing.OneHotEncoder(sparse=False)\n",
        "ohe.fit(le_categories)"
      ]
    },
    {
      "cell_type": "markdown",
      "metadata": {
        "id": "jaqOH3Y3EAIO"
      },
      "source": [
        "### COHEN dataset"
      ]
    },
    {
      "cell_type": "markdown",
      "metadata": {
        "id": "yz6awaRAsy06"
      },
      "source": [
        "Será distinguida a covid de outros vírus, com as outras classes se agrupando reino animal"
      ]
    },
    {
      "cell_type": "code",
      "execution_count": null,
      "metadata": {
        "id": "rWax-NSFs87w"
      },
      "outputs": [],
      "source": [
        "# X-ray images\n",
        "cohen_xray_metada = cohen_metadata[cohen_metadata['modality'] == 'X-ray']\n",
        "covid_19_metadata = cohen_xray_metada[cohen_xray_metada['finding'] == 'Pneumonia/Viral/COVID-19']\n",
        "# Procurar outros vírus E acelerar para a busca das outras classes\n",
        "other_metadata = cohen_xray_metada[cohen_xray_metada['finding'] != 'Pneumonia/Viral/COVID-19']\n",
        "\n",
        "other_virus_metadata = other_metadata[other_metadata['finding'].str.startswith('Pneumonia/Viral')]\n",
        "bacterial_metadata = other_metadata[other_metadata['finding'].str.startswith('Pneumonia/Bacterial')]\n",
        "fungal_metadata = other_metadata[other_metadata['finding'].str.startswith('Pneumonia/Fungal')]"
      ]
    },
    {
      "cell_type": "code",
      "execution_count": null,
      "metadata": {
        "colab": {
          "base_uri": "https://localhost:8080/"
        },
        "id": "yk4Vbf8FzsoI",
        "outputId": "6c3764f2-4cc6-45ac-e1f2-79f4b9d3d862"
      },
      "outputs": [],
      "source": [
        "len(other_virus_metadata), len(bacterial_metadata), len(fungal_metadata), len(other_virus_metadata)+len(bacterial_metadata)+len(fungal_metadata)"
      ]
    },
    {
      "cell_type": "markdown",
      "metadata": {
        "id": "nQwaM22WKKI8"
      },
      "source": [
        "#### Baseline"
      ]
    },
    {
      "cell_type": "code",
      "execution_count": null,
      "metadata": {
        "colab": {
          "base_uri": "https://localhost:8080/"
        },
        "id": "cqgSdairKDFl",
        "outputId": "d202770d-ad13-4e0e-c343-1aa40e0c0d2c"
      },
      "outputs": [],
      "source": [
        "cohen_xray_metada['finding'].value_counts()"
      ]
    },
    {
      "cell_type": "code",
      "execution_count": null,
      "metadata": {
        "id": "DsCnw0j_7Kv9"
      },
      "outputs": [],
      "source": [
        "cohen_x_dataset = []\n",
        "cohen_y_dataset = []\n",
        "cohen_dir = \"cohen_dataset\"\n",
        "\n",
        "# Acelerar comparação\n",
        "covid_found = 0\n",
        "other_virus_found = 0\n",
        "bacterial_found = 0\n",
        "fungal_found = 0\n",
        "total_images = len(covid_19_metadata)+len(other_virus_metadata)+len(bacterial_metadata)+len(fungal_metadata)\n",
        "\n",
        "# Procura nos metadados as imagens necessárias\n",
        "training_data_filenames = os.listdir(cohen_dir)\n",
        "for img_name in training_data_filenames:\n",
        "  if covid_found+other_virus_found+bacterial_found+fungal_found != total_images:\n",
        "\n",
        "    if covid_found != len(covid_19_metadata) and len(covid_19_metadata[covid_19_metadata['filename'].isin([img_name])])!=0:\n",
        "      covid_found += 1\n",
        "      cohen_y_dataset.append(ohe.transform([le.transform(['cohen_covid19'])]).reshape(len(le_categories), 1))\n",
        "\n",
        "    elif other_virus_found != len(other_virus_metadata) and len(other_virus_metadata[other_virus_metadata['filename'].isin([img_name])])!=0:\n",
        "      other_virus_found += 1\n",
        "      cohen_y_dataset.append(ohe.transform([le.transform(['cohen_other_virus'])]).reshape(len(le_categories), 1))\n",
        "\n",
        "    elif bacterial_found != len(bacterial_metadata) and len(bacterial_metadata[bacterial_metadata['filename'].isin([img_name])])!=0:\n",
        "      bacterial_found += 1\n",
        "      cohen_y_dataset.append(ohe.transform([le.transform(['cohen_bacteria'])]).reshape(len(le_categories), 1))\n",
        "\n",
        "    elif fungal_found != len(fungal_metadata) and len(fungal_metadata[fungal_metadata['filename'].isin([img_name])])!=0:\n",
        "      fungal_found += 1\n",
        "      cohen_y_dataset.append(ohe.transform([le.transform(['cohen_fungal'])]).reshape(len(le_categories), 1))\n",
        "\n",
        "    else:\n",
        "      continue\n",
        "\n",
        "    with PIL.Image.open(os.path.join(cohen_dir, img_name)) as img:\n",
        "      img_resized = img.convert('L')\n",
        "      img_resized = img_resized.resize((img_width, img_height))\n",
        "      cohen_x_dataset.append(np.reshape(np.asarray(img_resized), (img_width, img_height, 1)))\n",
        "\n",
        "  # Achou todas as classes precisas\n",
        "  else:\n",
        "    break"
      ]
    },
    {
      "cell_type": "markdown",
      "metadata": {
        "id": "gHNcAOBCoMgw"
      },
      "source": [
        "#### Separação de visualizações (ANTEROPOSTERIOR, POSTOANTERIOR, AP SUPINO e Lateral)"
      ]
    },
    {
      "cell_type": "code",
      "execution_count": null,
      "metadata": {
        "id": "Ys_yQx6V8jn6"
      },
      "outputs": [],
      "source": [
        "covid_19_ap_metadata = covid_19_metadata[covid_19_metadata['view'] == 'AP']\n",
        "covid_19_pa_metadata = covid_19_metadata[covid_19_metadata['view'] == 'PA']\n",
        "covid_19_ap_supine_metadata = covid_19_metadata[covid_19_metadata['view'] == 'AP Supine']\n",
        "covid_19_l_metadata = covid_19_metadata[covid_19_metadata['view'] == 'L']\n",
        "\n",
        "other_virus_ap_metadata = other_virus_metadata[other_virus_metadata['view'] == 'AP']\n",
        "other_virus_pa_metadata = other_virus_metadata[other_virus_metadata['view'] == 'PA']\n",
        "other_virus_ap_supine_metadata = other_virus_metadata[other_virus_metadata['view'] == 'AP Supine']\n",
        "other_virus_l_metadata = covid_19_metadata[covid_19_metadata['view'] == 'L']\n",
        "\n",
        "bacterial_ap_metadata = bacterial_metadata[bacterial_metadata['view'] == 'AP']\n",
        "bacterial_pa_metadata = bacterial_metadata[bacterial_metadata['view'] == 'PA']\n",
        "bacterial_l_metadata = bacterial_metadata[bacterial_metadata['view'] == 'L']\n",
        "bacterial_ap_supine_metadata = bacterial_metadata[bacterial_metadata['view'] == 'AP Supine']\n",
        "\n",
        "fungal_ap_metadata = fungal_metadata[fungal_metadata['view'] == 'AP']\n",
        "fungal_pa_metadata = fungal_metadata[fungal_metadata['view'] == 'AP']\n",
        "fungal_ap_supine_metadata = fungal_metadata[fungal_metadata['view'] == 'AP']\n",
        "fungal_l_metadata = fungal_metadata[fungal_metadata['view'] == 'AP']"
      ]
    },
    {
      "cell_type": "markdown",
      "metadata": {
        "id": "j86xKVUyBDCI"
      },
      "source": [
        "Classes"
      ]
    },
    {
      "cell_type": "code",
      "execution_count": null,
      "metadata": {
        "id": "GA0bbdp1oSTH"
      },
      "outputs": [],
      "source": [
        "# O mapeamento de classes mudará de base para base, mas manteremos um padrão\n",
        "# para cada doença ou se a pessoa está saudável\n",
        "\n",
        "# kag x Cohen\n",
        "categories = ['kag_normal', 'kag_pneumonia_bacteria', 'kag_pneumonia_virus',\n",
        "              'cohen_ap_covid19', 'cohen_ap_other_virus', 'cohen_ap_bacterial', 'cohen_ap_fungal',\n",
        "              'cohen_pa_covid19', 'cohen_pa_other_virus', 'cohen_pa_bacterial', 'cohen_pa_fungal',\n",
        "              'cohen_l_covid19', 'cohen_l_other_virus', 'cohen_l_bacterial', 'cohen_l_fungal',\n",
        "              'cohen_ap_supine_covid19', 'cohen_ap_supine_other_virus', 'cohen_ap_supine_bacterial', 'cohen_ap_supine_fungal']\n",
        "\n",
        "le = sklearn.preprocessing.LabelEncoder()\n",
        "le_categories = le.fit_transform(categories)\n",
        "le_categories = le_categories.reshape(len(le_categories), 1)\n",
        "\n",
        "ohe = sklearn.preprocessing.OneHotEncoder(sparse=False)\n",
        "ohe.fit(le_categories)"
      ]
    },
    {
      "cell_type": "markdown",
      "metadata": {
        "id": "JBuzgAyMCBkq"
      },
      "source": [
        "Find labels"
      ]
    },
    {
      "cell_type": "code",
      "execution_count": null,
      "metadata": {
        "id": "iPy00lLHCD2z"
      },
      "outputs": [],
      "source": [
        "cohen_x_dataset = []\n",
        "cohen_y_dataset = []\n",
        "cohen_dir = \"cohen_dataset\"\n",
        "\n",
        "# Acelerar comparação\n",
        "covid_found = 0\n",
        "other_virus_found = 0\n",
        "bacterial_found = 0\n",
        "fungal_found = 0\n",
        "total_images = len(covid_19_metadata)+len(other_virus_metadata)+len(bacterial_metadata)+len(fungal_metadata)\n",
        "\n",
        "# Procura nos metadados as imagens necessárias\n",
        "training_data_filenames = os.listdir(cohen_dir)\n",
        "for img_name in training_data_filenames:\n",
        "  if covid_found+other_virus_found+bacterial_found+fungal_found != total_images:\n",
        "\n",
        "    if covid_found != len(covid_19_metadata) and len(covid_19_ap_metadata[covid_19_ap_metadata['filename'].isin([img_name])])!=0:\n",
        "      covid_found += 1\n",
        "      cohen_y_dataset.append(ohe.transform([le.transform(['cohen_ap_covid19'])]).reshape(len(le_categories), 1))\n",
        "\n",
        "    elif covid_found != len(covid_19_metadata) and len(covid_19_pa_metadata[covid_19_pa_metadata['filename'].isin([img_name])])!=0:\n",
        "      covid_found += 1\n",
        "      cohen_y_dataset.append(ohe.transform([le.transform(['cohen_pa_covid19'])]).reshape(len(le_categories), 1))\n",
        "\n",
        "    elif covid_found != len(covid_19_metadata) and len(covid_19_ap_supine_metadata[covid_19_ap_supine_metadata['filename'].isin([img_name])])!=0:\n",
        "      covid_found += 1\n",
        "      cohen_y_dataset.append(ohe.transform([le.transform(['cohen_ap_supine_covid19'])]).reshape(len(le_categories), 1))\n",
        "\n",
        "    elif covid_found != len(covid_19_metadata) and len(covid_19_l_metadata[covid_19_l_metadata['filename'].isin([img_name])])!=0:\n",
        "      covid_found += 1\n",
        "      cohen_y_dataset.append(ohe.transform([le.transform(['cohen_l_covid19'])]).reshape(len(le_categories), 1))\n",
        "\n",
        "    elif other_virus_found != len(other_virus_metadata) and len(other_virus_ap_metadata[other_virus_ap_metadata['filename'].isin([img_name])])!=0:\n",
        "      other_virus_found += 1\n",
        "      cohen_y_dataset.append(ohe.transform([le.transform(['cohen_ap_other_virus'])]).reshape(len(le_categories), 1))\n",
        "\n",
        "    elif other_virus_found != len(other_virus_metadata) and len(other_virus_pa_metadata[other_virus_pa_metadata['filename'].isin([img_name])])!=0:\n",
        "      other_virus_found += 1\n",
        "      cohen_y_dataset.append(ohe.transform([le.transform(['cohen_pa_other_virus'])]).reshape(len(le_categories), 1))\n",
        "\n",
        "    elif other_virus_found != len(other_virus_metadata) and len(other_virus_ap_supine_metadata[other_virus_ap_supine_metadata['filename'].isin([img_name])])!=0:\n",
        "      other_virus_found += 1\n",
        "      cohen_y_dataset.append(ohe.transform([le.transform(['cohen_ap_supine_other_virus'])]).reshape(len(le_categories), 1))\n",
        "\n",
        "    elif other_virus_found != len(other_virus_metadata) and len(other_virus_l_metadata[other_virus_l_metadata['filename'].isin([img_name])])!=0:\n",
        "      other_virus_found += 1\n",
        "      cohen_y_dataset.append(ohe.transform([le.transform(['cohen_l_other_virus'])]).reshape(len(le_categories), 1))\n",
        "\n",
        "    elif bacterial_found != len(bacterial_metadata) and len(bacterial_ap_metadata[bacterial_ap_metadata['filename'].isin([img_name])])!=0:\n",
        "      bacterial_found += 1\n",
        "      cohen_y_dataset.append(ohe.transform([le.transform(['cohen_ap_bacterial'])]).reshape(len(le_categories), 1))\n",
        "\n",
        "    elif bacterial_found != len(bacterial_metadata) and len(bacterial_pa_metadata[bacterial_pa_metadata['filename'].isin([img_name])])!=0:\n",
        "      bacterial_found += 1\n",
        "      cohen_y_dataset.append(ohe.transform([le.transform(['cohen_pa_bacterial'])]).reshape(len(le_categories), 1))\n",
        "\n",
        "    elif bacterial_found != len(bacterial_metadata) and len(bacterial_ap_supine_metadata[bacterial_ap_supine_metadata['filename'].isin([img_name])])!=0:\n",
        "      bacterial_found += 1\n",
        "      cohen_y_dataset.append(ohe.transform([le.transform(['cohen_ap_supine_bacterial'])]).reshape(len(le_categories), 1))\n",
        "\n",
        "    elif bacterial_found != len(bacterial_metadata) and len(bacterial_l_metadata[bacterial_l_metadata['filename'].isin([img_name])])!=0:\n",
        "      bacterial_found += 1\n",
        "      cohen_y_dataset.append(ohe.transform([le.transform(['cohen_l_bacterial'])]).reshape(len(le_categories), 1))\n",
        "\n",
        "    elif fungal_found != len(fungal_metadata) and len(fungal_ap_metadata[fungal_ap_metadata['filename'].isin([img_name])])!=0:\n",
        "      fungal_found += 1\n",
        "      cohen_y_dataset.append(ohe.transform([le.transform(['cohen_ap_fungal'])]).reshape(len(le_categories), 1))\n",
        "\n",
        "    elif fungal_found != len(fungal_metadata) and len(fungal_pa_metadata[fungal_pa_metadata['filename'].isin([img_name])])!=0:\n",
        "      fungal_found += 1\n",
        "      cohen_y_dataset.append(ohe.transform([le.transform(['cohen_pa_fungal'])]).reshape(len(le_categories), 1))\n",
        "\n",
        "    elif fungal_found != len(fungal_metadata) and len(fungal_ap_supine_metadata[fungal_ap_supine_metadata['filename'].isin([img_name])])!=0:\n",
        "      fungal_found += 1\n",
        "      cohen_y_dataset.append(ohe.transform([le.transform(['cohen_ap_supine_fungal'])]).reshape(len(le_categories), 1))\n",
        "\n",
        "    elif fungal_found != len(fungal_metadata) and len(fungal_l_metadata[fungal_l_metadata['filename'].isin([img_name])])!=0:\n",
        "      fungal_found += 1\n",
        "      cohen_y_dataset.append(ohe.transform([le.transform(['cohen_l_fungal'])]).reshape(len(le_categories), 1))\n",
        "\n",
        "    else:\n",
        "      continue\n",
        "\n",
        "    with PIL.Image.open(os.path.join(cohen_dir, img_name)) as img:\n",
        "      img_resized = img.convert('L')\n",
        "      img_resized = img_resized.resize((img_width, img_height))\n",
        "      cohen_x_dataset.append(np.reshape(np.asarray(img_resized), (img_width, img_height, 1)))\n",
        "\n",
        "  # Achou todas as classes precisas\n",
        "  else:\n",
        "    break"
      ]
    },
    {
      "cell_type": "markdown",
      "metadata": {
        "id": "sxOBp6y1ED9D"
      },
      "source": [
        "### Kag dataset"
      ]
    },
    {
      "cell_type": "code",
      "execution_count": null,
      "metadata": {
        "id": "zQxDikOrY2lx"
      },
      "outputs": [],
      "source": [
        "def find_class_label(image_name):\n",
        "  expression = re.findall(r'person\\d*_(bacteria|virus)_\\d*', image_name, flags=re.I)\n",
        "  label = expression[0].lower()\n",
        "\n",
        "  return label"
      ]
    },
    {
      "cell_type": "code",
      "execution_count": null,
      "metadata": {
        "id": "tGXltPd_EGY1"
      },
      "outputs": [],
      "source": [
        "# kag_dataset = []\n",
        "kag_dir = \"kag_dataset\"\n",
        "gc.collect()\n",
        "\n",
        "kag_x_train = []\n",
        "kag_x_val = []\n",
        "kag_y_train = []\n",
        "kag_y_val = []\n",
        "normal = 0\n",
        "pneumonias = {\"bacteria\": 0, \"virus\": 0}\n",
        "\n",
        "kag_train_dir = os.path.join(kag_dir, \"train\")\n",
        "for finding in os.listdir(kag_train_dir):\n",
        "  finding_path = os.path.join(kag_train_dir, finding)\n",
        "  for image in os.listdir(finding_path):\n",
        "    with PIL.Image.open(os.path.join(finding_path, image)) as img:\n",
        "      img_resized = img.convert('L')\n",
        "      img_resized = img_resized.resize((img_width, img_height))\n",
        "      kag_x_train.append(np.reshape(np.asarray(img_resized), (img_width, img_height, 1)))\n",
        "\n",
        "    if finding == 'NORMAL':\n",
        "      kag_y_train.append(ohe.transform([le.transform(['kag_normal'])]).reshape(len(le_categories), 1))\n",
        "      normal +=1\n",
        "\n",
        "    else:\n",
        "      label = find_class_label(image)\n",
        "      kag_y_train.append(ohe.transform([le.transform([f'kag_pneumonia_{label}'])]).reshape(len(le_categories), 1))\n",
        "      pneumonias[label] += 1\n",
        "\n",
        "kag_val_dir = os.path.join(kag_dir, \"test\")\n",
        "for finding in os.listdir(kag_val_dir):\n",
        "  finding_path = os.path.join(kag_val_dir, finding)\n",
        "  for image in os.listdir(finding_path):\n",
        "    with PIL.Image.open(os.path.join(finding_path, image)) as img:\n",
        "      img_resized = img.convert('L')\n",
        "      img_resized = img_resized.resize((img_width, img_height))\n",
        "      kag_x_val.append(np.reshape(np.asarray(img_resized), (img_width, img_height, 1)))\n",
        "\n",
        "    if finding == 'NORMAL':\n",
        "      kag_y_val.append(ohe.transform([le.transform(['kag_normal'])]).reshape(len(le_categories), 1))\n",
        "      normal +=1\n",
        "    else:\n",
        "      label = find_class_label(image)\n",
        "      kag_y_val.append(ohe.transform([le.transform([f'kag_pneumonia_{label}'])]).reshape(len(le_categories), 1))\n",
        "      pneumonias[label] += 1"
      ]
    },
    {
      "cell_type": "code",
      "execution_count": null,
      "metadata": {
        "colab": {
          "base_uri": "https://localhost:8080/"
        },
        "id": "EAcak5_Y12x0",
        "outputId": "60db5bde-b75a-4af8-dc16-8a69cc0d0260"
      },
      "outputs": [],
      "source": [
        "normal, pneumonias['bacteria'], pneumonias['virus']"
      ]
    },
    {
      "cell_type": "markdown",
      "metadata": {
        "id": "HrNzas8LEKCx"
      },
      "source": [
        "## Visualização dos resultados"
      ]
    },
    {
      "cell_type": "code",
      "execution_count": null,
      "metadata": {
        "id": "PNL8uzq3jEns"
      },
      "outputs": [],
      "source": [
        "experiments_path = \"\""
      ]
    },
    {
      "cell_type": "markdown",
      "metadata": {
        "id": "Me-oovzRGRM_"
      },
      "source": [
        "### Baseline e cross-validation"
      ]
    },
    {
      "cell_type": "markdown",
      "metadata": {
        "id": "dpxc_4o9PInN"
      },
      "source": [
        "Base de teste do kag e cohen"
      ]
    },
    {
      "cell_type": "code",
      "execution_count": null,
      "metadata": {
        "id": "u7hQdxMtPI41"
      },
      "outputs": [],
      "source": [
        "cohen_x_train, cohen_x_test, cohen_y_train, cohen_y_test = sklearn.model_selection.train_test_split(cohen_x_dataset, cohen_y_dataset, test_size=0.1, random_state=seed)\n",
        "cohen_x_train, cohen_x_val, cohen_y_train, cohen_y_val = sklearn.model_selection.train_test_split(cohen_x_train, cohen_y_train, train_size=0.78, random_state=seed)"
      ]
    },
    {
      "cell_type": "markdown",
      "metadata": {
        "id": "180HY-bOl_1w"
      },
      "source": [
        "Base de teste de kag"
      ]
    },
    {
      "cell_type": "code",
      "execution_count": null,
      "metadata": {
        "id": "7-5J2fmjmCvg"
      },
      "outputs": [],
      "source": [
        "kag_x_test = []\n",
        "kag_y_test = []\n",
        "\n",
        "kag_val_dir = os.path.join(kag_dir, \"val\")\n",
        "for finding in os.listdir(kag_val_dir):\n",
        "  finding_path = os.path.join(kag_val_dir, finding)\n",
        "  for image in os.listdir(finding_path):\n",
        "    with PIL.Image.open(os.path.join(finding_path, image)) as img:\n",
        "      img_resized = img.convert('L')\n",
        "      img_resized = img_resized.resize((img_width, img_height))\n",
        "      kag_x_test.append(np.reshape(np.asarray(img_resized), (img_width, img_height, 1)))\n",
        "\n",
        "    if finding == 'NORMAL':\n",
        "      kag_y_test.append(ohe.transform([le.transform(['kag_normal'])]).reshape(len(le_categories), 1))\n",
        "      normal += 1\n",
        "    else:\n",
        "      label = find_class_label(image)\n",
        "      kag_y_test.append(ohe.transform([le.transform([f'kag_pneumonia_{label}'])]).reshape(len(le_categories), 1))\n",
        "      pneumonias[label] += 1"
      ]
    },
    {
      "cell_type": "code",
      "execution_count": null,
      "metadata": {
        "colab": {
          "base_uri": "https://localhost:8080/"
        },
        "id": "q5Pjg6yZ2twc",
        "outputId": "bf98b398-da2f-47fd-b042-8c58c13f517d"
      },
      "outputs": [],
      "source": [
        "normal, pneumonias['bacteria'], pneumonias['virus']"
      ]
    },
    {
      "cell_type": "code",
      "execution_count": null,
      "metadata": {
        "id": "fldm3LJFbsrY"
      },
      "outputs": [],
      "source": [
        "# Separar cada base para reconhecimento\n",
        "categories = ['kag_normal', 'kag_pneumonia_bacteria', 'kag_pneumonia_virus',\n",
        "              'cohen_covid19', 'cohen_other_virus', 'cohen_bacteria', 'cohen_fungal']\n",
        "\n",
        "kag_dataset_labels = {'kag_normal': ohe.transform([le.transform(['kag_normal'])]), 'kag_pneumonia_bacteria': ohe.transform([le.transform(['kag_pneumonia_bacteria'])]),\n",
        "                      'kag_pneumonia_virus': ohe.transform([le.transform(['kag_pneumonia_virus'])])}"
      ]
    },
    {
      "cell_type": "markdown",
      "metadata": {
        "id": "Zgiw8B3pG4JH"
      },
      "source": [
        "Pré-processamento para cada label e Cálculo das métricas"
      ]
    },
    {
      "cell_type": "code",
      "execution_count": null,
      "metadata": {
        "id": "QrqBpuaswFar"
      },
      "outputs": [],
      "source": [
        "def split_cohen_kag_label(arr):\n",
        "  arr_ind = np.argmax(arr)\n",
        "  return 'kag' if np.logical_or(arr_ind == np.argmax(kag_dataset_labels['kag_normal']),\n",
        "                                np.logical_or(arr_ind == np.argmax(kag_dataset_labels['kag_pneumonia_bacteria']),\n",
        "                                              arr_ind == np.argmax(kag_dataset_labels['kag_pneumonia_virus']))).sum() == 1\\\n",
        "  else 'cohen'"
      ]
    },
    {
      "cell_type": "markdown",
      "metadata": {
        "id": "lZB5qVdmPMJU"
      },
      "source": [
        "#### Baseline"
      ]
    },
    {
      "cell_type": "markdown",
      "metadata": {
        "id": "HeK82RyDBlEp"
      },
      "source": [
        "Carregar modelo"
      ]
    },
    {
      "cell_type": "code",
      "execution_count": null,
      "metadata": {
        "id": "jNC_MtVPBplD"
      },
      "outputs": [],
      "source": [
        "baseline_larger_regions = 'baseline_cohen_kag_larger_regions'\n",
        "baseline_low_level_high_level = 'baseline_cohen_kag_low_level_high_level'\n",
        "baseline_transfer_learning = 'baseline_cohen_kag_resnet50'\n",
        "\n",
        "baseline_larger_regions_model = tf.keras.models.load_model(os.path.join(experiments_path,\n",
        "                                                                        baseline_larger_regions))\n",
        "baseline_low_level_high_level_model = tf.keras.models.load_model(os.path.join(experiments_path,\n",
        "                                                                              baseline_low_level_high_level))\n",
        "baseline_transfer_learning_model = tf.keras.models.load_model(os.path.join(experiments_path,\n",
        "                                                                          baseline_transfer_learning))"
      ]
    },
    {
      "cell_type": "code",
      "execution_count": null,
      "metadata": {
        "id": "5I6zfpVkBOeZ"
      },
      "outputs": [],
      "source": [
        "# A partir da previsão e do correto é possível usar o sklearn para gerar múltiplas métricas\n",
        "y_test = np.concatenate((cohen_y_test, kag_y_test))\n",
        "X_test = np.concatenate((cohen_x_test, kag_x_test))\n",
        "\n",
        "# Separar cada base para reconhecimento\n",
        "categories = ['kag_normal', 'kag_pneumonia_bacteria', 'kag_pneumonia_virus',\n",
        "              'cohen_covid19', 'cohen_other_virus', 'cohen_bacteria', 'cohen_fungal']\n",
        "\n",
        "kag_dataset_labels = {'kag_normal': ohe.transform([le.transform(['kag_normal'])]), 'kag_pneumonia_bacteria': ohe.transform([le.transform(['kag_pneumonia_bacteria'])]),\n",
        "                      'kag_pneumonia_virus': ohe.transform([le.transform(['kag_pneumonia_virus'])])}\n",
        "\n",
        "cohen_dataset_labels = {'cohen_covid19': ohe.transform([le.transform(['cohen_covid19'])]), 'cohen_other_virus': ohe.transform([le.transform(['cohen_other_virus'])]),\n",
        "                        'cohen_bacteria': ohe.transform([le.transform(['cohen_bacteria'])]), 'cohen_fungal': ohe.transform([le.transform(['cohen_fungal'])])}"
      ]
    },
    {
      "cell_type": "markdown",
      "metadata": {
        "id": "bSawRwUi7VGB"
      },
      "source": [
        "##### Teste"
      ]
    },
    {
      "cell_type": "code",
      "execution_count": null,
      "metadata": {
        "colab": {
          "base_uri": "https://localhost:8080/"
        },
        "id": "ZDgDNBMbG9Me",
        "outputId": "aabcca4b-3b79-44ef-e76c-952637d77c6b"
      },
      "outputs": [],
      "source": [
        "predictions_larger_regions = baseline_larger_regions_model.predict(X_test)\n",
        "predictions_low_level_high_level = baseline_low_level_high_level_model.predict(X_test)\n",
        "predictions_transfer_learning = baseline_transfer_learning_model.predict(np.concatenate((X_test, X_test, X_test), axis=-1))"
      ]
    },
    {
      "cell_type": "markdown",
      "metadata": {
        "id": "Db9wBlsOyAK-"
      },
      "source": [
        "###### Dataset"
      ]
    },
    {
      "cell_type": "code",
      "execution_count": null,
      "metadata": {
        "id": "j0x82fcYBRji"
      },
      "outputs": [],
      "source": [
        "y_base_test = np.array(list(map(split_cohen_kag_label, y_test)))"
      ]
    },
    {
      "cell_type": "markdown",
      "metadata": {
        "id": "0NotXDmK8ppD"
      },
      "source": [
        "Larger regions"
      ]
    },
    {
      "cell_type": "code",
      "execution_count": null,
      "metadata": {
        "colab": {
          "base_uri": "https://localhost:8080/"
        },
        "id": "7iL0hXMGqr5d",
        "outputId": "3caa6be4-429d-4814-bb4b-f3bbfa0fa101"
      },
      "outputs": [],
      "source": [
        "y_base_test_predictions_larger_regions = np.array(list(map(split_cohen_kag_label, predictions_larger_regions)))\n",
        "\n",
        "print(sklearn.metrics.classification_report(y_base_test, y_base_test_predictions_larger_regions))"
      ]
    },
    {
      "cell_type": "markdown",
      "metadata": {
        "id": "oIjVCFUo8-y_"
      },
      "source": [
        "Different segments"
      ]
    },
    {
      "cell_type": "code",
      "execution_count": null,
      "metadata": {
        "colab": {
          "base_uri": "https://localhost:8080/"
        },
        "id": "j92BuOh89H6Y",
        "outputId": "e16ae486-88a3-47e0-adea-48b185eec82f"
      },
      "outputs": [],
      "source": [
        "y_base_test_predictions_low_level_high_level = np.array(list(map(split_cohen_kag_label, predictions_low_level_high_level)))\n",
        "\n",
        "print(sklearn.metrics.classification_report(y_base_test, y_base_test_predictions_low_level_high_level))"
      ]
    },
    {
      "cell_type": "markdown",
      "metadata": {
        "id": "oEZ8ECzqDlyY"
      },
      "source": [
        "Transfer Learning"
      ]
    },
    {
      "cell_type": "code",
      "execution_count": null,
      "metadata": {
        "colab": {
          "base_uri": "https://localhost:8080/"
        },
        "id": "E7HWVnoJDlRk",
        "outputId": "fe775b24-b52a-4414-c6e6-5bc2bce9b85e"
      },
      "outputs": [],
      "source": [
        "y_base_test_predictions_transfer_learning = np.array(list(map(split_cohen_kag_label, predictions_transfer_learning)))\n",
        "\n",
        "print(sklearn.metrics.classification_report(y_base_test, y_base_test_predictions_transfer_learning))"
      ]
    },
    {
      "cell_type": "markdown",
      "metadata": {
        "id": "dSoCZp1QyGng"
      },
      "source": [
        "###### Defined classes"
      ]
    },
    {
      "cell_type": "markdown",
      "metadata": {
        "id": "wdVG2_k4yXpH"
      },
      "source": [
        "Larger Regions"
      ]
    },
    {
      "cell_type": "code",
      "execution_count": null,
      "metadata": {
        "colab": {
          "base_uri": "https://localhost:8080/"
        },
        "id": "h2edrw9FyRcV",
        "outputId": "161b861f-cd10-4c3b-b4b5-5715bb51423a"
      },
      "outputs": [],
      "source": [
        "print(sklearn.metrics.classification_report(\n",
        "    le.inverse_transform(np.argmax(y_test.reshape((y_test.shape[0], y_test.shape[1])), axis=1)),\n",
        "    le.inverse_transform(np.argmax(predictions_larger_regions, axis=1)))\n",
        ")"
      ]
    },
    {
      "cell_type": "markdown",
      "metadata": {
        "id": "6CB4QRQayflR"
      },
      "source": [
        "Different segments"
      ]
    },
    {
      "cell_type": "code",
      "execution_count": null,
      "metadata": {
        "colab": {
          "base_uri": "https://localhost:8080/"
        },
        "id": "vyeImmOlyhYH",
        "outputId": "4f91749c-bb3b-4d77-8584-0e71ef031de7"
      },
      "outputs": [],
      "source": [
        "print(sklearn.metrics.classification_report(\n",
        "    le.inverse_transform(np.argmax(y_test.reshape((y_test.shape[0], y_test.shape[1])), axis=1)),\n",
        "    le.inverse_transform(np.argmax(predictions_low_level_high_level, axis=1)))\n",
        ")"
      ]
    },
    {
      "cell_type": "markdown",
      "metadata": {
        "id": "0DS9TZLny197"
      },
      "source": [
        "Transfer Learning"
      ]
    },
    {
      "cell_type": "code",
      "execution_count": null,
      "metadata": {
        "colab": {
          "base_uri": "https://localhost:8080/"
        },
        "id": "7ahWnrpjy3Z-",
        "outputId": "dc431baf-e007-4ffb-fe69-7a61ca539a65"
      },
      "outputs": [],
      "source": [
        "print(sklearn.metrics.classification_report(\n",
        "    le.inverse_transform(np.argmax(y_test.reshape((y_test.shape[0], y_test.shape[1])), axis=1)),\n",
        "    le.inverse_transform(np.argmax(predictions_transfer_learning, axis=1)))\n",
        ")"
      ]
    },
    {
      "cell_type": "markdown",
      "metadata": {
        "id": "WuSchMxj7XoZ"
      },
      "source": [
        "##### Validação"
      ]
    },
    {
      "cell_type": "code",
      "execution_count": null,
      "metadata": {
        "colab": {
          "base_uri": "https://localhost:8080/"
        },
        "id": "v81UuSQ-8aCA",
        "outputId": "edcf3f2f-4497-4dea-d963-12b37cb7a59b"
      },
      "outputs": [],
      "source": [
        "X_val = np.concatenate((cohen_x_val, kag_x_val))\n",
        "y_val = np.concatenate((cohen_y_val, kag_y_val))\n",
        "\n",
        "predictions_larger_regions = baseline_larger_regions_model.predict(X_val)\n",
        "predictions_low_level_high_level = baseline_low_level_high_level_model.predict(X_val)\n",
        "predictions_transfer_learning = baseline_transfer_learning_model.predict(np.concatenate((X_val, X_val, X_val), axis=-1))"
      ]
    },
    {
      "cell_type": "markdown",
      "metadata": {
        "id": "ziffsUiSzscG"
      },
      "source": [
        "###### Dataset"
      ]
    },
    {
      "cell_type": "code",
      "execution_count": null,
      "metadata": {
        "id": "yiOK1a-j93w3"
      },
      "outputs": [],
      "source": [
        "y_base_val = np.array(list(map(split_cohen_kag_label, y_val)))"
      ]
    },
    {
      "cell_type": "markdown",
      "metadata": {
        "id": "67oeNxAR7c_k"
      },
      "source": [
        "Larger regions"
      ]
    },
    {
      "cell_type": "code",
      "execution_count": null,
      "metadata": {
        "colab": {
          "base_uri": "https://localhost:8080/"
        },
        "id": "1S_9VxoH7Z6v",
        "outputId": "48ff929f-70be-4a78-82d6-3d2762543aec"
      },
      "outputs": [],
      "source": [
        "y_base_val_predictions_larger_regions = np.array(list(map(split_cohen_kag_label, predictions_larger_regions)))\n",
        "\n",
        "print(sklearn.metrics.classification_report(y_base_val, y_base_val_predictions_larger_regions))"
      ]
    },
    {
      "cell_type": "markdown",
      "metadata": {
        "id": "l6AxSLjr-FJQ"
      },
      "source": [
        "Low-level to high-level"
      ]
    },
    {
      "cell_type": "code",
      "execution_count": null,
      "metadata": {
        "colab": {
          "base_uri": "https://localhost:8080/"
        },
        "id": "za8zJJW--G6G",
        "outputId": "1d2d9d3b-a52b-48dc-cb02-883fb6b3fbb1"
      },
      "outputs": [],
      "source": [
        "y_base_val_predictions_low_level_high_level = np.array(list(map(split_cohen_kag_label, predictions_low_level_high_level)))\n",
        "\n",
        "print(sklearn.metrics.classification_report(y_base_val, y_base_val_predictions_low_level_high_level))"
      ]
    },
    {
      "cell_type": "markdown",
      "metadata": {
        "id": "lJciHmZV-Odv"
      },
      "source": [
        "Transfer Learning"
      ]
    },
    {
      "cell_type": "code",
      "execution_count": null,
      "metadata": {
        "colab": {
          "base_uri": "https://localhost:8080/"
        },
        "id": "4gef_VpH-P6c",
        "outputId": "12866d43-54c3-411c-846d-765e45ba48c6"
      },
      "outputs": [],
      "source": [
        "y_base_val_predictions_transfer_learning = np.array(list(map(split_cohen_kag_label, predictions_transfer_learning)))\n",
        "\n",
        "print(sklearn.metrics.classification_report(y_base_val, y_base_val_predictions_transfer_learning))"
      ]
    },
    {
      "cell_type": "markdown",
      "metadata": {
        "id": "7U1AJFWjzuqj"
      },
      "source": [
        "###### Defined Classes"
      ]
    },
    {
      "cell_type": "markdown",
      "metadata": {
        "id": "uASbdDrk0I_R"
      },
      "source": [
        "Larger Regions"
      ]
    },
    {
      "cell_type": "code",
      "execution_count": null,
      "metadata": {
        "colab": {
          "base_uri": "https://localhost:8080/"
        },
        "id": "X6eW0IAt0YQa",
        "outputId": "644ec67f-343a-46e5-a655-9b4ef737116a"
      },
      "outputs": [],
      "source": [
        "print(sklearn.metrics.classification_report(\n",
        "    le.inverse_transform(np.argmax(y_val.reshape((y_val.shape[0], y_val.shape[1])), axis=1)),\n",
        "    le.inverse_transform(np.argmax(predictions_larger_regions, axis=1)))\n",
        ")"
      ]
    },
    {
      "cell_type": "markdown",
      "metadata": {
        "id": "GerKnaEA0L2h"
      },
      "source": [
        "Low-level to high-level"
      ]
    },
    {
      "cell_type": "code",
      "execution_count": null,
      "metadata": {
        "colab": {
          "base_uri": "https://localhost:8080/"
        },
        "id": "BpcaS_3f0dQu",
        "outputId": "5df24533-b3e7-48ac-d620-3affaded9cd4"
      },
      "outputs": [],
      "source": [
        "print(sklearn.metrics.classification_report(\n",
        "    le.inverse_transform(np.argmax(y_val.reshape((y_val.shape[0], y_val.shape[1])), axis=1)),\n",
        "    le.inverse_transform(np.argmax(predictions_low_level_high_level, axis=1)))\n",
        ")"
      ]
    },
    {
      "cell_type": "markdown",
      "metadata": {
        "id": "HzlsrJiW0Mfg"
      },
      "source": [
        "Transfer Learning"
      ]
    },
    {
      "cell_type": "code",
      "execution_count": null,
      "metadata": {
        "colab": {
          "base_uri": "https://localhost:8080/"
        },
        "id": "qaZ-zIJp0gHc",
        "outputId": "c86bc743-b2cb-4379-8855-70f84ceb5c80"
      },
      "outputs": [],
      "source": [
        "print(sklearn.metrics.classification_report(\n",
        "    le.inverse_transform(np.argmax(y_val.reshape((y_val.shape[0], y_val.shape[1])), axis=1)),\n",
        "    le.inverse_transform(np.argmax(predictions_transfer_learning, axis=1)))\n",
        ")"
      ]
    },
    {
      "cell_type": "markdown",
      "metadata": {
        "id": "tJ8k-IITE3-4"
      },
      "source": [
        "#### Cross-validation"
      ]
    },
    {
      "cell_type": "markdown",
      "metadata": {
        "id": "EswA4EcgCdNK"
      },
      "source": [
        "Get back test data"
      ]
    },
    {
      "cell_type": "code",
      "execution_count": null,
      "metadata": {
        "id": "tV86zaVHCblV"
      },
      "outputs": [],
      "source": [
        "cohen_kag_x_dataset = np.concatenate((cohen_x_dataset, kag_x_train, kag_x_val, kag_x_test))\n",
        "cohen_kag_y_dataset = np.concatenate((cohen_y_dataset, kag_y_train, kag_y_val, kag_y_test))\n",
        "cohen_kag_y_dataset = cohen_kag_y_dataset.reshape(cohen_kag_y_dataset.shape[0], cohen_kag_y_dataset.shape[1])\n",
        "\n",
        "cohen_kag_x_dataset, X_test, cohen_kag_y_dataset, y_test = sklearn.model_selection.train_test_split(cohen_kag_x_dataset, cohen_kag_y_dataset, test_size=0.1, random_state=seed)\n",
        "y_base_test = np.array(list(map(split_cohen_kag_label, y_test)))"
      ]
    },
    {
      "cell_type": "code",
      "execution_count": null,
      "metadata": {
        "id": "to03FzAOPDiH"
      },
      "outputs": [],
      "source": [
        "history_cross_cohen_kag = 'cv_cohen_kag_iteration_'\n",
        "\n",
        "high_level_low_level = 'low_level_high_level'\n",
        "larger_regions = 'larger_regions'\n",
        "transfer_learning = 'resnet50'"
      ]
    },
    {
      "cell_type": "markdown",
      "metadata": {
        "id": "gfNx5NzB2cyC"
      },
      "source": [
        "##### Dataset"
      ]
    },
    {
      "cell_type": "markdown",
      "metadata": {
        "id": "l363SanuVXtG"
      },
      "source": [
        "Larger regions"
      ]
    },
    {
      "cell_type": "code",
      "execution_count": null,
      "metadata": {
        "colab": {
          "base_uri": "https://localhost:8080/"
        },
        "id": "bX4Qi8_EVY6R",
        "outputId": "866e31e4-e065-4473-e5dd-db9d5c173491"
      },
      "outputs": [],
      "source": [
        "for i in range(5):\n",
        "  model = tf.keras.models.load_model(os.path.join(experiments_path, f\"{history_cross_cohen_kag}{i}_{larger_regions}\"))\n",
        "  predictions_larger_regions = model.predict(X_test)\n",
        "  print(f\"Iteration {i}\")\n",
        "  y_base_test_predictions_larger_regions = np.array(list(map(split_cohen_kag_label, predictions_larger_regions)))\n",
        "\n",
        "  print(sklearn.metrics.classification_report(y_base_test, y_base_test_predictions_larger_regions))"
      ]
    },
    {
      "cell_type": "markdown",
      "metadata": {
        "id": "OvPdBerJVZRv"
      },
      "source": [
        "Low-level to high-level"
      ]
    },
    {
      "cell_type": "code",
      "execution_count": null,
      "metadata": {
        "colab": {
          "base_uri": "https://localhost:8080/"
        },
        "id": "Gz3LVJhMVcAi",
        "outputId": "49bbd6d3-2e92-4946-f554-0363eeee9af0"
      },
      "outputs": [],
      "source": [
        "for i in range(5):\n",
        "  model = tf.keras.models.load_model(os.path.join(experiments_path, f\"{history_cross_cohen_kag}{i}_{high_level_low_level}\"))\n",
        "  predictions_low_level_high_level = model.predict(X_test)\n",
        "  print(f\"Iteration {i}\")\n",
        "  y_base_test_predictions_low_level_high_level = np.array(list(map(split_cohen_kag_label, predictions_low_level_high_level)))\n",
        "\n",
        "  print(sklearn.metrics.classification_report(y_base_test, y_base_test_predictions_low_level_high_level))"
      ]
    },
    {
      "cell_type": "markdown",
      "metadata": {
        "id": "INfreOg6VcW2"
      },
      "source": [
        "Transfer Learning"
      ]
    },
    {
      "cell_type": "code",
      "execution_count": null,
      "metadata": {
        "colab": {
          "base_uri": "https://localhost:8080/"
        },
        "id": "CIPV0Ac4VfpL",
        "outputId": "66c01372-931b-45d2-8aaa-9d78fa1da2dd"
      },
      "outputs": [],
      "source": [
        "for i in range(5):\n",
        "  model = tf.keras.models.load_model(os.path.join(experiments_path, f\"{history_cross_cohen_kag}{i}_{transfer_learning}\"))\n",
        "  predictions_transfer_learning = model.predict(np.concatenate((X_test, X_test, X_test), axis=-1))\n",
        "  print(f\"Iteration {i}\")\n",
        "  y_base_test_predictions_transfer_learning = np.array(list(map(split_cohen_kag_label, predictions_transfer_learning)))\n",
        "\n",
        "  print(sklearn.metrics.classification_report(y_base_test, y_base_test_predictions_transfer_learning))"
      ]
    },
    {
      "cell_type": "markdown",
      "metadata": {
        "id": "d3RYCXwO8THp"
      },
      "source": [
        "##### Defined classes"
      ]
    },
    {
      "cell_type": "markdown",
      "metadata": {
        "id": "b8fJYt8y8THy"
      },
      "source": [
        "Larger regions"
      ]
    },
    {
      "cell_type": "code",
      "execution_count": null,
      "metadata": {
        "colab": {
          "base_uri": "https://localhost:8080/"
        },
        "id": "cN7Uj6u38THy",
        "outputId": "becc5adb-53b5-47ee-9b7d-abbf9082f864"
      },
      "outputs": [],
      "source": [
        "for i in range(5):\n",
        "  model = tf.keras.models.load_model(os.path.join(experiments_path, f\"{history_cross_cohen_kag}{i}_{larger_regions}\"))\n",
        "  predictions_larger_regions = model.predict(X_test)\n",
        "  print(f\"Iteration {i}\")\n",
        "\n",
        "  print(sklearn.metrics.classification_report(\n",
        "    le.inverse_transform(np.argmax(y_test.reshape((y_test.shape[0], y_test.shape[1])), axis=1)),\n",
        "    le.inverse_transform(np.argmax(predictions_larger_regions, axis=1)))\n",
        "  )"
      ]
    },
    {
      "cell_type": "markdown",
      "metadata": {
        "id": "DmFuc0qi8THz"
      },
      "source": [
        "Low-level to high-level"
      ]
    },
    {
      "cell_type": "code",
      "execution_count": null,
      "metadata": {
        "colab": {
          "base_uri": "https://localhost:8080/"
        },
        "id": "NKFz6Vdx8THz",
        "outputId": "18e0c820-9774-4124-9cb4-564eb0b982e3"
      },
      "outputs": [],
      "source": [
        "for i in range(5):\n",
        "  model = tf.keras.models.load_model(os.path.join(experiments_path, f\"{history_cross_cohen_kag}{i}_{high_level_low_level}\"))\n",
        "  predictions_low_level_high_level = model.predict(X_test)\n",
        "  print(f\"Iteration {i}\")\n",
        "\n",
        "  print(sklearn.metrics.classification_report(\n",
        "    le.inverse_transform(np.argmax(y_test.reshape((y_test.shape[0], y_test.shape[1])), axis=1)),\n",
        "    le.inverse_transform(np.argmax(predictions_low_level_high_level, axis=1)))\n",
        "  )"
      ]
    },
    {
      "cell_type": "markdown",
      "metadata": {
        "id": "y4vN-ebQ8THz"
      },
      "source": [
        "Transfer Learning"
      ]
    },
    {
      "cell_type": "code",
      "execution_count": null,
      "metadata": {
        "colab": {
          "base_uri": "https://localhost:8080/",
          "height": 581
        },
        "id": "TKMkK1Vz8THz",
        "outputId": "f05cf38e-bdb5-4997-872c-cfb1b8e36e91"
      },
      "outputs": [],
      "source": [
        "for i in range(5):\n",
        "  model = tf.keras.models.load_model(os.path.join(experiments_path, f\"{history_cross_cohen_kag}{i}_{transfer_learning}\"))\n",
        "  model.summary()\n",
        "  predictions_transfer_learning = model.predict(np.concatenate((X_test, X_test, X_test), axis=-1))\n",
        "  print(f\"Iteration {i}\")\n",
        "\n",
        "  print(sklearn.metrics.classification_report(\n",
        "    le.inverse_transform(np.argmax(y_test.reshape((y_test.shape[0], y_test.shape[1])), axis=1)),\n",
        "    le.inverse_transform(np.argmax(predictions_transfer_learning, axis=1)))\n",
        "  )"
      ]
    },
    {
      "cell_type": "markdown",
      "metadata": {
        "id": "ImAOzKiaGwEM"
      },
      "source": [
        "#### AP, PA e AP Supine"
      ]
    },
    {
      "cell_type": "markdown",
      "metadata": {
        "id": "g98zmrZMAtX0"
      },
      "source": [
        "Carregar modelo"
      ]
    },
    {
      "cell_type": "code",
      "execution_count": null,
      "metadata": {
        "id": "nZIXRjbGAsh2"
      },
      "outputs": [],
      "source": [
        "baseline_larger_regions = 'view_split_cohen_kag_larger_regions'\n",
        "baseline_low_level_high_level = 'view_split_cohen_kag_low_level_high_level'\n",
        "baseline_transfer_learning = 'view_split_cohen_kag_resnet50'\n",
        "\n",
        "baseline_larger_regions_model = tf.keras.models.load_model(os.path.join(experiments_path,\n",
        "                                                                        baseline_larger_regions))\n",
        "baseline_low_level_high_level_model = tf.keras.models.load_model(os.path.join(experiments_path,\n",
        "                                                                              baseline_low_level_high_level))\n",
        "baseline_transfer_learning_model = tf.keras.models.load_model(os.path.join(experiments_path,\n",
        "                                                                          baseline_transfer_learning))"
      ]
    },
    {
      "cell_type": "code",
      "execution_count": null,
      "metadata": {
        "id": "iACHDAIB_AeB"
      },
      "outputs": [],
      "source": [
        "# A partir da previsão e do correto é possível usar o sklearn para gerar múltiplas métricas\n",
        "y_test = np.concatenate((cohen_y_test, kag_y_test))\n",
        "X_test = np.concatenate((cohen_x_test, kag_x_test))\n",
        "\n",
        "# Separar cada base para reconhecimento\n",
        "categories = ['kag_normal', 'kag_pneumonia_bacteria', 'kag_pneumonia_virus',\n",
        "              'cohen_covid19', 'cohen_other_virus', 'cohen_bacteria', 'cohen_fungal']\n",
        "\n",
        "cohen_dataset_labels = {'cohen_ap_covid19': ohe.transform([le.transform(['cohen_ap_covid19'])]), 'cohen_ap_other_virus': ohe.transform([le.transform(['cohen_ap_other_virus'])]),\n",
        "                        'cohen_ap_bacterial': ohe.transform([le.transform(['cohen_ap_bacterial'])]), 'cohen_ap_fungal': ohe.transform([le.transform(['cohen_ap_fungal'])]),\n",
        "                        'cohen_pa_covid19': ohe.transform([le.transform(['cohen_pa_covid19'])]), 'cohen_pa_other_virus': ohe.transform([le.transform(['cohen_pa_other_virus'])]),\n",
        "                        'cohen_pa_bacterial': ohe.transform([le.transform(['cohen_pa_bacterial'])]), 'cohen_pa_fungal': ohe.transform([le.transform(['cohen_pa_fungal'])]),\n",
        "                        'cohen_l_covid19': ohe.transform([le.transform(['cohen_l_covid19'])]), 'cohen_l_other_virus': ohe.transform([le.transform(['cohen_l_other_virus'])]),\n",
        "                        'cohen_l_bacterial': ohe.transform([le.transform(['cohen_l_bacterial'])]), 'cohen_l_fungal': ohe.transform([le.transform(['cohen_l_fungal'])]),\n",
        "                        'cohen_ap_supine_covid19': ohe.transform([le.transform(['cohen_ap_supine_covid19'])]), 'cohen_ap_supine_other_virus': ohe.transform([le.transform(['cohen_ap_supine_other_virus'])]),\n",
        "                        'cohen_ap_supine_bacterial': ohe.transform([le.transform(['cohen_ap_supine_bacterial'])]), 'cohen_ap_supine_fungal': ohe.transform([le.transform(['cohen_ap_supine_fungal'])])}"
      ]
    },
    {
      "cell_type": "markdown",
      "metadata": {
        "id": "Pc7z8DGr9M0b"
      },
      "source": [
        "##### Teste"
      ]
    },
    {
      "cell_type": "code",
      "execution_count": null,
      "metadata": {
        "colab": {
          "base_uri": "https://localhost:8080/"
        },
        "id": "FiKk0yfV9M0b",
        "outputId": "a6190049-ed7d-4f27-cca8-419267798e50"
      },
      "outputs": [],
      "source": [
        "predictions_larger_regions = baseline_larger_regions_model.predict(X_test)\n",
        "predictions_low_level_high_level = baseline_low_level_high_level_model.predict(X_test)\n",
        "predictions_transfer_learning = baseline_transfer_learning_model.predict(np.concatenate((X_test, X_test, X_test), axis=-1))"
      ]
    },
    {
      "cell_type": "markdown",
      "metadata": {},
      "source": [
        "###### Dataset"
      ]
    },
    {
      "cell_type": "code",
      "execution_count": null,
      "metadata": {
        "id": "g54-kE0k_EHC"
      },
      "outputs": [],
      "source": [
        "y_base_test = np.array(list(map(split_cohen_kag_label, y_test)))"
      ]
    },
    {
      "cell_type": "markdown",
      "metadata": {
        "id": "Aire48729M0c"
      },
      "source": [
        "Larger regions"
      ]
    },
    {
      "cell_type": "code",
      "execution_count": null,
      "metadata": {
        "colab": {
          "base_uri": "https://localhost:8080/"
        },
        "id": "PG0IMcZT9M0d",
        "outputId": "7c2d4c9e-5da8-443f-9caf-0c3296dad273"
      },
      "outputs": [],
      "source": [
        "y_base_test_predictions_larger_regions = np.array(list(map(split_cohen_kag_label, predictions_larger_regions)))\n",
        "\n",
        "print(sklearn.metrics.classification_report(y_base_test, y_base_test_predictions_larger_regions))"
      ]
    },
    {
      "cell_type": "markdown",
      "metadata": {
        "id": "7YZzB25F9M0d"
      },
      "source": [
        "Low-level to high-level"
      ]
    },
    {
      "cell_type": "code",
      "execution_count": null,
      "metadata": {
        "colab": {
          "base_uri": "https://localhost:8080/"
        },
        "id": "WJsVr_HT9M0d",
        "outputId": "66e85adb-41e2-4edf-e0e6-0b74b3c3769f"
      },
      "outputs": [],
      "source": [
        "y_base_test_predictions_low_level_high_level = np.array(list(map(split_cohen_kag_label, predictions_low_level_high_level)))\n",
        "\n",
        "print(sklearn.metrics.classification_report(y_base_test, y_base_test_predictions_low_level_high_level))"
      ]
    },
    {
      "cell_type": "markdown",
      "metadata": {
        "id": "trIdUlHz9M0e"
      },
      "source": [
        "Transfer Learning"
      ]
    },
    {
      "cell_type": "code",
      "execution_count": null,
      "metadata": {
        "colab": {
          "base_uri": "https://localhost:8080/"
        },
        "id": "2Y_wtExh9M0e",
        "outputId": "7171d9df-6c11-4f62-ff57-5ae00caeea47"
      },
      "outputs": [],
      "source": [
        "y_base_test_predictions_transfer_learning = np.array(list(map(split_cohen_kag_label, predictions_transfer_learning)))\n",
        "\n",
        "print(sklearn.metrics.classification_report(y_base_test, y_base_test_predictions_transfer_learning))"
      ]
    },
    {
      "cell_type": "markdown",
      "metadata": {},
      "source": [
        "###### Defined classes"
      ]
    },
    {
      "cell_type": "markdown",
      "metadata": {},
      "source": [
        "Larger Regions"
      ]
    },
    {
      "cell_type": "code",
      "execution_count": null,
      "metadata": {},
      "outputs": [],
      "source": [
        "print(sklearn.metrics.classification_report(\n",
        "    le.inverse_transform(np.argmax(y_test.reshape((y_test.shape[0], y_test.shape[1])), axis=1)),\n",
        "    le.inverse_transform(np.argmax(predictions_larger_regions, axis=1)))\n",
        ")"
      ]
    },
    {
      "cell_type": "markdown",
      "metadata": {},
      "source": [
        "Different segments"
      ]
    },
    {
      "cell_type": "code",
      "execution_count": null,
      "metadata": {},
      "outputs": [],
      "source": [
        "print(sklearn.metrics.classification_report(\n",
        "    le.inverse_transform(np.argmax(y_test.reshape((y_test.shape[0], y_test.shape[1])), axis=1)),\n",
        "    le.inverse_transform(np.argmax(predictions_low_level_high_level, axis=1)))\n",
        ")"
      ]
    },
    {
      "cell_type": "markdown",
      "metadata": {},
      "source": [
        "Transfer Learning"
      ]
    },
    {
      "cell_type": "code",
      "execution_count": null,
      "metadata": {},
      "outputs": [],
      "source": [
        "print(sklearn.metrics.classification_report(\n",
        "    le.inverse_transform(np.argmax(y_test.reshape((y_test.shape[0], y_test.shape[1])), axis=1)),\n",
        "    le.inverse_transform(np.argmax(predictions_transfer_learning, axis=1)))\n",
        ")"
      ]
    },
    {
      "cell_type": "markdown",
      "metadata": {
        "id": "5ko0MGmw9TB1"
      },
      "source": [
        "##### Validação"
      ]
    },
    {
      "cell_type": "code",
      "execution_count": null,
      "metadata": {
        "colab": {
          "base_uri": "https://localhost:8080/"
        },
        "id": "AwRrbPPz9TB2",
        "outputId": "a1a36a16-ea49-4c78-e7b3-0a2546e497b3"
      },
      "outputs": [],
      "source": [
        "X_val = np.concatenate((cohen_x_val, kag_x_val))\n",
        "y_val = np.concatenate((cohen_y_val, kag_y_val))\n",
        "\n",
        "predictions_larger_regions = baseline_larger_regions_model.predict(X_val)\n",
        "predictions_low_level_high_level = baseline_low_level_high_level_model.predict(X_val)\n",
        "predictions_transfer_learning = baseline_transfer_learning_model.predict(np.concatenate((X_val, X_val, X_val), axis=-1))"
      ]
    },
    {
      "cell_type": "code",
      "execution_count": null,
      "metadata": {
        "id": "oZBMRPBj9TB2"
      },
      "outputs": [],
      "source": [
        "y_base_val = np.array(list(map(split_cohen_kag_label, y_val)))"
      ]
    },
    {
      "cell_type": "markdown",
      "metadata": {},
      "source": [
        "###### Dataset"
      ]
    },
    {
      "cell_type": "markdown",
      "metadata": {
        "id": "hJwtYxFv9TB2"
      },
      "source": [
        "Larger regions"
      ]
    },
    {
      "cell_type": "code",
      "execution_count": null,
      "metadata": {
        "colab": {
          "base_uri": "https://localhost:8080/"
        },
        "id": "jXsONq1_9TB2",
        "outputId": "68d9a7cb-772e-4dec-c9e8-3b94a46209bc"
      },
      "outputs": [],
      "source": [
        "y_base_val_predictions_larger_regions = np.array(list(map(split_cohen_kag_label, predictions_larger_regions)))\n",
        "\n",
        "print(sklearn.metrics.classification_report(y_base_val, y_base_val_predictions_larger_regions))"
      ]
    },
    {
      "cell_type": "markdown",
      "metadata": {
        "id": "-ywVUy-d9TB3"
      },
      "source": [
        "Low-level to high-level"
      ]
    },
    {
      "cell_type": "code",
      "execution_count": null,
      "metadata": {
        "colab": {
          "base_uri": "https://localhost:8080/"
        },
        "id": "PdnyUUTH9TB3",
        "outputId": "1541141b-a918-481a-8344-5b83cc5491d6"
      },
      "outputs": [],
      "source": [
        "y_base_val_predictions_low_level_high_level = np.array(list(map(split_cohen_kag_label, predictions_low_level_high_level)))\n",
        "\n",
        "print(sklearn.metrics.classification_report(y_base_val, y_base_val_predictions_low_level_high_level))"
      ]
    },
    {
      "cell_type": "markdown",
      "metadata": {
        "id": "WxDxjHje9TB3"
      },
      "source": [
        "Transfer Learning"
      ]
    },
    {
      "cell_type": "code",
      "execution_count": null,
      "metadata": {
        "colab": {
          "base_uri": "https://localhost:8080/"
        },
        "id": "nVB8sMZX9TB3",
        "outputId": "bc43a91f-e84b-47de-b54d-afe63227e5d0"
      },
      "outputs": [],
      "source": [
        "y_base_val_predictions_transfer_learning = np.array(list(map(split_cohen_kag_label, predictions_transfer_learning)))\n",
        "\n",
        "print(sklearn.metrics.classification_report(y_base_val, y_base_val_predictions_transfer_learning))"
      ]
    },
    {
      "cell_type": "markdown",
      "metadata": {},
      "source": [
        "###### Defined Classes"
      ]
    },
    {
      "cell_type": "markdown",
      "metadata": {},
      "source": [
        "Larger Regions"
      ]
    },
    {
      "cell_type": "code",
      "execution_count": null,
      "metadata": {},
      "outputs": [],
      "source": [
        "print(sklearn.metrics.classification_report(\n",
        "    le.inverse_transform(np.argmax(y_val.reshape((y_val.shape[0], y_val.shape[1])), axis=1)),\n",
        "    le.inverse_transform(np.argmax(predictions_larger_regions, axis=1)))\n",
        ")"
      ]
    },
    {
      "cell_type": "markdown",
      "metadata": {},
      "source": [
        "Low-level to high-level"
      ]
    },
    {
      "cell_type": "code",
      "execution_count": null,
      "metadata": {},
      "outputs": [],
      "source": [
        "print(sklearn.metrics.classification_report(\n",
        "    le.inverse_transform(np.argmax(y_val.reshape((y_val.shape[0], y_val.shape[1])), axis=1)),\n",
        "    le.inverse_transform(np.argmax(predictions_low_level_high_level, axis=1)))\n",
        ")"
      ]
    },
    {
      "cell_type": "markdown",
      "metadata": {},
      "source": [
        "Transfer Learning"
      ]
    },
    {
      "cell_type": "code",
      "execution_count": null,
      "metadata": {},
      "outputs": [],
      "source": [
        "print(sklearn.metrics.classification_report(\n",
        "    le.inverse_transform(np.argmax(y_val.reshape((y_val.shape[0], y_val.shape[1])), axis=1)),\n",
        "    le.inverse_transform(np.argmax(predictions_transfer_learning, axis=1)))\n",
        ")"
      ]
    },
    {
      "cell_type": "markdown",
      "metadata": {
        "id": "K07GspY84IAO"
      },
      "source": [
        "#### Cross-validation AP, PA, AP Supine e Lateral"
      ]
    },
    {
      "cell_type": "code",
      "execution_count": null,
      "metadata": {
        "id": "Ib5eVlB_I69t"
      },
      "outputs": [],
      "source": [
        "# A partir da previsão e do correto é possível usar o sklearn para gerar múltiplas métricas\n",
        "y_test = np.concatenate((cohen_y_test, kag_y_test))\n",
        "X_test = np.concatenate((cohen_x_test, kag_x_test))\n",
        "\n",
        "cohen_dataset_labels = {'cohen_ap_covid19': ohe.transform([le.transform(['cohen_ap_covid19'])]), 'cohen_ap_other_virus': ohe.transform([le.transform(['cohen_ap_other_virus'])]),\n",
        "                        'cohen_ap_bacterial': ohe.transform([le.transform(['cohen_ap_bacterial'])]), 'cohen_ap_fungal': ohe.transform([le.transform(['cohen_ap_fungal'])]),\n",
        "                        'cohen_pa_covid19': ohe.transform([le.transform(['cohen_pa_covid19'])]), 'cohen_pa_other_virus': ohe.transform([le.transform(['cohen_pa_other_virus'])]),\n",
        "                        'cohen_pa_bacterial': ohe.transform([le.transform(['cohen_pa_bacterial'])]), 'cohen_pa_fungal': ohe.transform([le.transform(['cohen_pa_fungal'])]),\n",
        "                        'cohen_l_covid19': ohe.transform([le.transform(['cohen_l_covid19'])]), 'cohen_l_other_virus': ohe.transform([le.transform(['cohen_l_other_virus'])]),\n",
        "                        'cohen_l_bacterial': ohe.transform([le.transform(['cohen_l_bacterial'])]), 'cohen_l_fungal': ohe.transform([le.transform(['cohen_l_fungal'])]),\n",
        "                        'cohen_ap_supine_covid19': ohe.transform([le.transform(['cohen_ap_supine_covid19'])]), 'cohen_ap_supine_other_virus': ohe.transform([le.transform(['cohen_ap_supine_other_virus'])]),\n",
        "                        'cohen_ap_supine_bacterial': ohe.transform([le.transform(['cohen_ap_supine_bacterial'])]), 'cohen_ap_supine_fungal': ohe.transform([le.transform(['cohen_ap_supine_fungal'])])}"
      ]
    },
    {
      "cell_type": "markdown",
      "metadata": {
        "id": "NWAThTOuG4tX"
      },
      "source": [
        "Get back test data"
      ]
    },
    {
      "cell_type": "code",
      "execution_count": null,
      "metadata": {
        "id": "h-h1gqs94Mkm"
      },
      "outputs": [],
      "source": [
        "cohen_kag_x_dataset = np.concatenate((cohen_x_dataset, kag_x_train, kag_x_val, kag_x_test))\n",
        "cohen_kag_y_dataset = np.concatenate((cohen_y_dataset, kag_y_train, kag_y_val, kag_y_test))\n",
        "cohen_kag_y_dataset = cohen_kag_y_dataset.reshape(cohen_kag_y_dataset.shape[0], cohen_kag_y_dataset.shape[1])\n",
        "\n",
        "cohen_kag_x_dataset, X_test, cohen_kag_y_dataset, y_test = sklearn.model_selection.train_test_split(cohen_kag_x_dataset, cohen_kag_y_dataset, test_size=0.1, random_state=seed)\n",
        "y_base_test = np.array(list(map(split_cohen_kag_label, y_test)))"
      ]
    },
    {
      "cell_type": "code",
      "execution_count": null,
      "metadata": {
        "id": "6ZO9v8OsG-4G"
      },
      "outputs": [],
      "source": [
        "history_cross_cohen_kag = 'view_split_cv_cohen_kag_iteration_'\n",
        "\n",
        "high_level_low_level = 'low_level_high_level'\n",
        "larger_regions = 'larger_regions'\n",
        "transfer_learning = 'resnet50'"
      ]
    },
    {
      "cell_type": "markdown",
      "metadata": {},
      "source": [
        "##### Dataset"
      ]
    },
    {
      "cell_type": "markdown",
      "metadata": {},
      "source": [
        "Larger regions"
      ]
    },
    {
      "cell_type": "code",
      "execution_count": null,
      "metadata": {},
      "outputs": [],
      "source": [
        "for i in range(5):\n",
        "  model = tf.keras.models.load_model(os.path.join(experiments_path, f\"{history_cross_cohen_kag}{i}_{larger_regions}\"))\n",
        "  predictions_larger_regions = model.predict(X_test)\n",
        "  print(f\"Iteration {i}\")\n",
        "  y_base_test_predictions_larger_regions = np.array(list(map(split_cohen_kag_label, predictions_larger_regions)))\n",
        "\n",
        "  print(sklearn.metrics.classification_report(y_base_test, y_base_test_predictions_larger_regions))"
      ]
    },
    {
      "cell_type": "markdown",
      "metadata": {},
      "source": [
        "Low-level to high-level"
      ]
    },
    {
      "cell_type": "code",
      "execution_count": null,
      "metadata": {},
      "outputs": [],
      "source": [
        "for i in range(5):\n",
        "  model = tf.keras.models.load_model(os.path.join(experiments_path, f\"{history_cross_cohen_kag}{i}_{high_level_low_level}\"))\n",
        "  predictions_low_level_high_level = model.predict(X_test)\n",
        "  print(f\"Iteration {i}\")\n",
        "  y_base_test_predictions_low_level_high_level = np.array(list(map(split_cohen_kag_label, predictions_low_level_high_level)))\n",
        "\n",
        "  print(sklearn.metrics.classification_report(y_base_test, y_base_test_predictions_low_level_high_level))"
      ]
    },
    {
      "cell_type": "markdown",
      "metadata": {},
      "source": [
        "Transfer Learning"
      ]
    },
    {
      "cell_type": "code",
      "execution_count": null,
      "metadata": {},
      "outputs": [],
      "source": [
        "for i in range(5):\n",
        "  model = tf.keras.models.load_model(os.path.join(experiments_path, f\"{history_cross_cohen_kag}{i}_{transfer_learning}\"))\n",
        "  predictions_transfer_learning = model.predict(np.concatenate((X_test, X_test, X_test), axis=-1))\n",
        "  print(f\"Iteration {i}\")\n",
        "  y_base_test_predictions_transfer_learning = np.array(list(map(split_cohen_kag_label, predictions_transfer_learning)))\n",
        "\n",
        "  print(sklearn.metrics.classification_report(y_base_test, y_base_test_predictions_transfer_learning))"
      ]
    },
    {
      "cell_type": "markdown",
      "metadata": {},
      "source": [
        "##### Defined classes"
      ]
    },
    {
      "cell_type": "markdown",
      "metadata": {},
      "source": [
        "Larger regions"
      ]
    },
    {
      "cell_type": "code",
      "execution_count": null,
      "metadata": {},
      "outputs": [],
      "source": [
        "for i in range(5):\n",
        "  model = tf.keras.models.load_model(os.path.join(experiments_path, f\"{history_cross_cohen_kag}{i}_{larger_regions}\"))\n",
        "  predictions_larger_regions = model.predict(X_test)\n",
        "  print(f\"Iteration {i}\")\n",
        "\n",
        "  print(sklearn.metrics.classification_report(\n",
        "    le.inverse_transform(np.argmax(y_test.reshape((y_test.shape[0], y_test.shape[1])), axis=1)),\n",
        "    le.inverse_transform(np.argmax(predictions_larger_regions, axis=1)))\n",
        "  )"
      ]
    },
    {
      "cell_type": "markdown",
      "metadata": {},
      "source": [
        "Low-level to high-level"
      ]
    },
    {
      "cell_type": "code",
      "execution_count": null,
      "metadata": {},
      "outputs": [],
      "source": [
        "for i in range(5):\n",
        "  model = tf.keras.models.load_model(os.path.join(experiments_path, f\"{history_cross_cohen_kag}{i}_{high_level_low_level}\"))\n",
        "  predictions_low_level_high_level = model.predict(X_test)\n",
        "  print(f\"Iteration {i}\")\n",
        "\n",
        "  print(sklearn.metrics.classification_report(\n",
        "    le.inverse_transform(np.argmax(y_test.reshape((y_test.shape[0], y_test.shape[1])), axis=1)),\n",
        "    le.inverse_transform(np.argmax(predictions_low_level_high_level, axis=1)))\n",
        "  )"
      ]
    },
    {
      "cell_type": "markdown",
      "metadata": {},
      "source": [
        "Transfer Learning"
      ]
    },
    {
      "cell_type": "code",
      "execution_count": null,
      "metadata": {},
      "outputs": [],
      "source": [
        "for i in range(5):\n",
        "  model = tf.keras.models.load_model(os.path.join(experiments_path, f\"{history_cross_cohen_kag}{i}_{transfer_learning}\"))\n",
        "  model.summary()\n",
        "  predictions_transfer_learning = model.predict(np.concatenate((X_test, X_test, X_test), axis=-1))\n",
        "  print(f\"Iteration {i}\")\n",
        "\n",
        "  print(sklearn.metrics.classification_report(\n",
        "    le.inverse_transform(np.argmax(y_test.reshape((y_test.shape[0], y_test.shape[1])), axis=1)),\n",
        "    le.inverse_transform(np.argmax(predictions_transfer_learning, axis=1)))\n",
        "  )"
      ]
    }
  ],
  "metadata": {
    "colab": {
      "provenance": []
    },
    "kernelspec": {
      "display_name": "Python 3",
      "name": "python3"
    },
    "language_info": {
      "name": "python"
    }
  },
  "nbformat": 4,
  "nbformat_minor": 0
}
